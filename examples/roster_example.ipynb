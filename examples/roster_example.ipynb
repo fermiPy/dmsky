{
 "cells": [
  {
   "cell_type": "code",
   "execution_count": 1,
   "metadata": {
    "collapsed": false
   },
   "outputs": [
    {
     "name": "stdout",
     "output_type": "stream",
     "text": [
      "/Users/alex/fermi/software/dmsky/dmsky/data/targets\n"
     ]
    }
   ],
   "source": [
    "%matplotlib inline\n",
    "\n",
    "import numpy as np\n",
    "\n",
    "import dmsky.roster\n",
    "import dmsky.skymap"
   ]
  },
  {
   "cell_type": "code",
   "execution_count": 2,
   "metadata": {
    "collapsed": false
   },
   "outputs": [
    {
     "name": "stdout",
     "output_type": "stream",
     "text": [
      "/Users/alex/fermi/software/dmsky/dmsky/data/rosters\n"
     ]
    }
   ],
   "source": [
    "# Build the library of pre-defined rosters                                           \n",
    "library = dmsky.roster.RosterLibrary()"
   ]
  },
  {
   "cell_type": "code",
   "execution_count": 5,
   "metadata": {
    "collapsed": false
   },
   "outputs": [
    {
     "name": "stdout",
     "output_type": "stream",
     "text": [
      "['test2015', 'dsphs_gc', 'ackermann2015_dsphs', 'martinez2015_nfw', 'ackermann2013_gc']\n"
     ]
    }
   ],
   "source": [
    "# The roster name often follows from a literature reference                          \n",
    "name = 'martinez2015_nfw'\n",
    "\n",
    "# To get a list of the available rosters                                             \n",
    "print library.library.keys()"
   ]
  },
  {
   "cell_type": "code",
   "execution_count": 6,
   "metadata": {
    "collapsed": true
   },
   "outputs": [],
   "source": [
    "# Build the roster of targets                                                        \n",
    "dsphs = library.create_roster(name)"
   ]
  },
  {
   "cell_type": "code",
   "execution_count": 7,
   "metadata": {
    "collapsed": false
   },
   "outputs": [
    {
     "name": "stdout",
     "output_type": "stream",
     "text": [
      "Dwarf\n",
      "  name           : bootes_I\n",
      "  ra             : 210.025\n",
      "  dec            : 14.5\n",
      "  distance       : 66.0\n",
      "  density        : <class 'dmsky.density.NFWProfile'>\n",
      "  Parameters:\n",
      "    rs     : Parameter(8.331336e+20, [None, None], [None, None], False)\n",
      "    rhos   : Parameter(1.78718119032e-23, [None, None], [None, None], False)\n",
      "    rmin   : Parameter(0.0, [None, None], [None, None], False)\n",
      "    rmax   : Parameter(3.08568e+21, [None, None], [None, None], False)\n",
      "    rhomax : Parameter(inf, [None, None], [None, None], False)\n",
      "    covar  : None\n",
      "Dwarf\n",
      "  name           : carina\n",
      "  ra             : 100.4029\n",
      "  dec            : -50.966\n",
      "  distance       : 105.0\n",
      "  density        : <class 'dmsky.density.NFWProfile'>\n",
      "  Parameters:\n",
      "    rs     : Parameter(6.479928e+20, [None, None], [None, None], False)\n",
      "    rhos   : Parameter(2.05796621916e-23, [None, None], [None, None], False)\n",
      "    rmin   : Parameter(0.0, [None, None], [None, None], False)\n",
      "    rmax   : Parameter(3.08568e+21, [None, None], [None, None], False)\n",
      "    rhomax : Parameter(inf, [None, None], [None, None], False)\n",
      "    covar  : None\n",
      "Dwarf\n",
      "  name           : canes_venatici_II\n",
      "  ra             : 194.29167\n",
      "  dec            : 34.32083\n",
      "  distance       : 160.0\n",
      "  density        : <class 'dmsky.density.NFWProfile'>\n",
      "  Parameters:\n",
      "    rs     : Parameter(5.862792e+20, [None, None], [None, None], False)\n",
      "    rhos   : Parameter(2.47091338813e-23, [None, None], [None, None], False)\n",
      "    rmin   : Parameter(0.0, [None, None], [None, None], False)\n",
      "    rmax   : Parameter(3.08568e+21, [None, None], [None, None], False)\n",
      "    rhomax : Parameter(inf, [None, None], [None, None], False)\n",
      "    covar  : None\n",
      "Dwarf\n",
      "  name           : coma_berenices\n",
      "  ra             : 186.74583\n",
      "  dec            : 23.90417\n",
      "  distance       : 44.0\n",
      "  density        : <class 'dmsky.density.NFWProfile'>\n",
      "  Parameters:\n",
      "    rs     : Parameter(5.554224e+20, [None, None], [None, None], False)\n",
      "    rhos   : Parameter(2.58599702539e-23, [None, None], [None, None], False)\n",
      "    rmin   : Parameter(0.0, [None, None], [None, None], False)\n",
      "    rmax   : Parameter(3.08568e+21, [None, None], [None, None], False)\n",
      "    rhomax : Parameter(inf, [None, None], [None, None], False)\n",
      "    covar  : None\n",
      "Dwarf\n",
      "  name           : draco\n",
      "  ra             : 260.05167\n",
      "  dec            : 57.91528\n",
      "  distance       : 76.0\n",
      "  density        : <class 'dmsky.density.NFWProfile'>\n",
      "  Parameters:\n",
      "    rs     : Parameter(1.079988e+21, [None, None], [None, None], False)\n",
      "    rhos   : Parameter(1.55701391581e-23, [None, None], [None, None], False)\n",
      "    rmin   : Parameter(0.0, [None, None], [None, None], False)\n",
      "    rmax   : Parameter(3.08568e+21, [None, None], [None, None], False)\n",
      "    rhomax : Parameter(inf, [None, None], [None, None], False)\n",
      "    covar  : None\n",
      "Dwarf\n",
      "  name           : fornax\n",
      "  ra             : 39.997\n",
      "  dec            : -34.449\n",
      "  distance       : 147.0\n",
      "  density        : <class 'dmsky.density.NFWProfile'>\n",
      "  Parameters:\n",
      "    rs     : Parameter(1.4502696e+21, [None, None], [None, None], False)\n",
      "    rhos   : Parameter(9.0036022088e-24, [None, None], [None, None], False)\n",
      "    rmin   : Parameter(0.0, [None, None], [None, None], False)\n",
      "    rmax   : Parameter(3.08568e+21, [None, None], [None, None], False)\n",
      "    rhomax : Parameter(inf, [None, None], [None, None], False)\n",
      "    covar  : None\n",
      "Dwarf\n",
      "  name           : hercules\n",
      "  ra             : 247.75833\n",
      "  dec            : 12.79167\n",
      "  distance       : 132.0\n",
      "  density        : <class 'dmsky.density.NFWProfile'>\n",
      "  Parameters:\n",
      "    rs     : Parameter(6.17136e+20, [None, None], [None, None], False)\n",
      "    rhos   : Parameter(2.47091338813e-23, [None, None], [None, None], False)\n",
      "    rmin   : Parameter(0.0, [None, None], [None, None], False)\n",
      "    rmax   : Parameter(3.08568e+21, [None, None], [None, None], False)\n",
      "    rhomax : Parameter(inf, [None, None], [None, None], False)\n",
      "    covar  : None\n",
      "Dwarf\n",
      "  name           : leo_II\n",
      "  ra             : 168.37\n",
      "  dec            : 22.15167\n",
      "  distance       : 233.0\n",
      "  density        : <class 'dmsky.density.NFWProfile'>\n",
      "  Parameters:\n",
      "    rs     : Parameter(9.565608e+20, [None, None], [None, None], False)\n",
      "    rhos   : Parameter(1.23884150693e-23, [None, None], [None, None], False)\n",
      "    rmin   : Parameter(0.0, [None, None], [None, None], False)\n",
      "    rmax   : Parameter(3.08568e+21, [None, None], [None, None], False)\n",
      "    rhomax : Parameter(inf, [None, None], [None, None], False)\n",
      "    covar  : None\n",
      "Dwarf\n",
      "  name           : leo_IV\n",
      "  ra             : 173.2375\n",
      "  dec            : -0.53333\n",
      "  distance       : 154.0\n",
      "  density        : <class 'dmsky.density.NFWProfile'>\n",
      "  Parameters:\n",
      "    rs     : Parameter(6.17136e+20, [None, None], [None, None], False)\n",
      "    rhos   : Parameter(2.47091338813e-23, [None, None], [None, None], False)\n",
      "    rmin   : Parameter(0.0, [None, None], [None, None], False)\n",
      "    rmax   : Parameter(3.08568e+21, [None, None], [None, None], False)\n",
      "    rhomax : Parameter(inf, [None, None], [None, None], False)\n",
      "    covar  : None\n",
      "Dwarf\n",
      "  name           : sculptor\n",
      "  ra             : 15.039\n",
      "  dec            : -33.709\n",
      "  distance       : 86.0\n",
      "  density        : <class 'dmsky.density.NFWProfile'>\n",
      "  Parameters:\n",
      "    rs     : Parameter(1.2034152e+21, [None, None], [None, None], False)\n",
      "    rhos   : Parameter(1.13052749539e-23, [None, None], [None, None], False)\n",
      "    rmin   : Parameter(0.0, [None, None], [None, None], False)\n",
      "    rmax   : Parameter(3.08568e+21, [None, None], [None, None], False)\n",
      "    rhomax : Parameter(inf, [None, None], [None, None], False)\n",
      "    covar  : None\n",
      "Dwarf\n",
      "  name           : segue_1\n",
      "  ra             : 151.76667\n",
      "  dec            : 16.08194\n",
      "  distance       : 23.0\n",
      "  density        : <class 'dmsky.density.NFWProfile'>\n",
      "  Parameters:\n",
      "    rs     : Parameter(4.62852e+20, [None, None], [None, None], False)\n",
      "    rhos   : Parameter(3.74360302366e-23, [None, None], [None, None], False)\n",
      "    rmin   : Parameter(0.0, [None, None], [None, None], False)\n",
      "    rmax   : Parameter(3.08568e+21, [None, None], [None, None], False)\n",
      "    rhomax : Parameter(inf, [None, None], [None, None], False)\n",
      "    covar  : None\n",
      "Dwarf\n",
      "  name           : segue_2\n",
      "  ra             : 34.81667\n",
      "  dec            : 20.17528\n",
      "  distance       : 35.0\n",
      "  density        : <class 'dmsky.density.NFWProfile'>\n",
      "  Parameters:\n",
      "    rs     : Parameter(4.937088e+20, [None, None], [None, None], False)\n",
      "    rhos   : Parameter(2.97186569148e-23, [None, None], [None, None], False)\n",
      "    rmin   : Parameter(0.0, [None, None], [None, None], False)\n",
      "    rmax   : Parameter(3.08568e+21, [None, None], [None, None], False)\n",
      "    rhomax : Parameter(inf, [None, None], [None, None], False)\n",
      "    covar  : None\n",
      "Dwarf\n",
      "  name           : sextans\n",
      "  ra             : 153.2625\n",
      "  dec            : -1.61472\n",
      "  distance       : 86.0\n",
      "  density        : <class 'dmsky.density.NFWProfile'>\n",
      "  Parameters:\n",
      "    rs     : Parameter(6.17136e+20, [None, None], [None, None], False)\n",
      "    rhos   : Parameter(2.58599702539e-23, [None, None], [None, None], False)\n",
      "    rmin   : Parameter(0.0, [None, None], [None, None], False)\n",
      "    rmax   : Parameter(3.08568e+21, [None, None], [None, None], False)\n",
      "    rhomax : Parameter(inf, [None, None], [None, None], False)\n",
      "    covar  : None\n",
      "Dwarf\n",
      "  name           : ursa_major_II\n",
      "  ra             : 132.875\n",
      "  dec            : 63.13\n",
      "  distance       : 32.0\n",
      "  density        : <class 'dmsky.density.NFWProfile'>\n",
      "  Parameters:\n",
      "    rs     : Parameter(5.862792e+20, [None, None], [None, None], False)\n",
      "    rhos   : Parameter(2.83647317706e-23, [None, None], [None, None], False)\n",
      "    rmin   : Parameter(0.0, [None, None], [None, None], False)\n",
      "    rmax   : Parameter(3.08568e+21, [None, None], [None, None], False)\n",
      "    rhomax : Parameter(inf, [None, None], [None, None], False)\n",
      "    covar  : None\n",
      "Dwarf\n",
      "  name           : ursa_minor\n",
      "  ra             : 227.2854\n",
      "  dec            : 67.2225\n",
      "  distance       : 76.0\n",
      "  density        : <class 'dmsky.density.NFWProfile'>\n",
      "  Parameters:\n",
      "    rs     : Parameter(1.4502696e+21, [None, None], [None, None], False)\n",
      "    rhos   : Parameter(9.81595729531e-24, [None, None], [None, None], False)\n",
      "    rmin   : Parameter(0.0, [None, None], [None, None], False)\n",
      "    rmax   : Parameter(3.08568e+21, [None, None], [None, None], False)\n",
      "    rhomax : Parameter(inf, [None, None], [None, None], False)\n",
      "    covar  : None\n",
      "Dwarf\n",
      "  name           : willman_1\n",
      "  ra             : 162.3375\n",
      "  dec            : 51.05\n",
      "  distance       : 38.0\n",
      "  density        : <class 'dmsky.density.NFWProfile'>\n",
      "  Parameters:\n",
      "    rs     : Parameter(4.937088e+20, [None, None], [None, None], False)\n",
      "    rhos   : Parameter(3.11402783162e-23, [None, None], [None, None], False)\n",
      "    rmin   : Parameter(0.0, [None, None], [None, None], False)\n",
      "    rmax   : Parameter(3.08568e+21, [None, None], [None, None], False)\n",
      "    rhomax : Parameter(inf, [None, None], [None, None], False)\n",
      "    covar  : None\n"
     ]
    },
    {
     "name": "stderr",
     "output_type": "stream",
     "text": [
      "/Users/alex/fermi/software/dmsky/dmsky/jcalc.py:380: RuntimeWarning: divide by zero encountered in log10\n",
      "  return np.log10([_dhalo, _psi, _jval])\n"
     ]
    }
   ],
   "source": [
    "# Fill the skymap with the jfactors from the target list                             \n",
    "skymap = dmsky.skymap.Skymap(dsphs, nside=128)\n",
    "skymap.fill()"
   ]
  },
  {
   "cell_type": "code",
   "execution_count": 20,
   "metadata": {
    "collapsed": false
   },
   "outputs": [
    {
     "name": "stderr",
     "output_type": "stream",
     "text": [
      "/usr/local/lib/python2.7/site-packages/IPython/kernel/__main__.py:3: RuntimeWarning: divide by zero encountered in log10\n",
      "  app.launch_new_instance()\n"
     ]
    },
    {
     "data": {
      "image/png": "[encoded data removed]",
      "text/plain": [
       "<matplotlib.figure.Figure at 0x10472d490>"
      ]
     },
     "metadata": {},
     "output_type": "display_data"
    }
   ],
   "source": [
    "# Some plotting (not the best projection)                                              \n",
    "import healpy\n",
    "healpy.mollview(np.log10(skymap.values))"
   ]
  }
 ],
 "metadata": {
  "kernelspec": {
   "display_name": "Python 2",
   "language": "python",
   "name": "python2"
  },
  "language_info": {
   "codemirror_mode": {
    "name": "ipython",
    "version": 2
   },
   "file_extension": ".py",
   "mimetype": "text/x-python",
   "name": "python",
   "nbconvert_exporter": "python",
   "pygments_lexer": "ipython2",
   "version": "2.7.8"
  }
 },
 "nbformat": 4,
 "nbformat_minor": 0
}
